view the notebook in google cob to see the final comparision interactive plot
